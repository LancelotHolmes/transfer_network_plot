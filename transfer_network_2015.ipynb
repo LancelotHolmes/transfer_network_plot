{
 "cells": [
  {
   "cell_type": "markdown",
   "metadata": {},
   "source": [
    "## 根据2015赛季前三级联赛的转会数据绘制网络图"
   ]
  },
  {
   "cell_type": "markdown",
   "metadata": {},
   "source": [
    "假设我现在只取2015赛季前三级联赛的的转会数据，先对*`clubs_league.csv`*进行一个简单统计\n",
    "### 需要统计：\n",
    "\n",
    "* 涉及哪些国家\n",
    "* 总体的俱乐部数目-->Nodes\n",
    "* 涉及联赛数目"
   ]
  },
  {
   "cell_type": "code",
   "execution_count": 1,
   "metadata": {
    "collapsed": true
   },
   "outputs": [],
   "source": [
    "import pandas as pd"
   ]
  },
  {
   "cell_type": "code",
   "execution_count": 14,
   "metadata": {
    "collapsed": false
   },
   "outputs": [
    {
     "name": "stdout",
     "output_type": "stream",
     "text": [
      "total clubs records:  2583\n",
      "total club id No.:  2335\n",
      "total club name No.:  2334\n",
      "total country id No.:  81\n",
      "total country name No.:  81\n",
      "total league id No.:  176\n",
      "total league name No.:  166\n"
     ]
    }
   ],
   "source": [
    "df_clubs=pd.read_csv('clubs_league.csv')\n",
    "# get the records of first 3 league level and season 2015\n",
    "df_3lv_15=df_clubs[(df_clubs['season_id']==2015)&\n",
    "                   (df_clubs['league_level'].isin(['First tier \\xc2\\xa0-','Second tier\\xc2\\xa0-','Third tier\\xc2\\xa0-']))]\n",
    "# check the types of league level\n",
    "# df_league_lv=df_clubs['league_level']\n",
    "# print df_league_lv.unique()\n",
    "print 'total clubs records: ', df_3lv_15.shape[0]\n",
    "\n",
    "cnt_clubs_id=len(df_3lv_15['club_id'].unique())\n",
    "# cnt_clubs_id2=len(set(df_3lv_15['club_id'].values.tolist()))\n",
    "cnt_country_id=len(df_3lv_15['country_id'].unique())\n",
    "cnt_clubs_name=len(df_3lv_15['club_name'].unique())\n",
    "cnt_country_name=len(df_3lv_15['country_name'].unique())\n",
    "cnt_league_id=len(df_3lv_15['league_id'].unique())\n",
    "cnt_league_name=len(df_3lv_15['league_name'].unique())\n",
    "\n",
    "print 'total club id No.: ',cnt_clubs_id\n",
    "# print 'total club id No.: ',cnt_clubs_id2\n",
    "print 'total club name No.: ',cnt_clubs_name\n",
    "print 'total country id No.: ',cnt_country_id\n",
    "print 'total country name No.: ',cnt_country_name\n",
    "print 'total league id No.: ',cnt_league_id\n",
    "print 'total league name No.: ',cnt_league_name\n",
    "# save the the records of first 3 league level and season 2015\n",
    "df_3lv_15.to_csv('clubs_3lv_15.csv',index=False)"
   ]
  },
  {
   "cell_type": "markdown",
   "metadata": {},
   "source": [
    "### 记录筛选规则\n",
    "* 严格前三级，即转会数据中*`move from`*和*`move to`*都必须是在2015赛季属于该国的前三级联赛的俱乐部\n",
    "* 只取2015赛季的数据，从*`clubs_league.csv`*表获取2015赛季联赛级别在前三级的俱乐部集合 *`clubs_set`*\n",
    "* 根据*`clubs_set`*来判断转会记录*`player_transfer_info_allClubs.csv`*中符合转会前后均在该集合中的记录，另外限制条件是赛季为*`15/16`*"
   ]
  },
  {
   "cell_type": "code",
   "execution_count": 23,
   "metadata": {
    "collapsed": false
   },
   "outputs": [
    {
     "name": "stdout",
     "output_type": "stream",
     "text": [
      "total transfer records:  25356\n",
      "total move from clubs(id):  2220\n",
      "total move from clubs(name):  2219\n",
      "total move to clubs(id):  2257\n",
      "total move to clubs(name):  2256\n",
      "*************************************************\n",
      "Transfer records in 2015:  15833\n",
      "Loan records in 2015:  9523\n"
     ]
    }
   ],
   "source": [
    "df_transfers=pd.read_csv('player_transfer_info_allClubs.csv')\n",
    "clubs_set=list(set(df_3lv_15['club_id'].values.tolist()))\n",
    "# print len(clubs_set)\n",
    "df_trans_lv3_15=df_transfers[(df_transfers['season']=='15/16')&\n",
    "                             (df_transfers['move from id'].isin(clubs_set))&\n",
    "                             (df_transfers['move to id'].isin(clubs_set))]\n",
    "print 'total transfer records: ', df_trans_lv3_15.shape[0]\n",
    "print 'total move from clubs(id): ',len(df_trans_lv3_15['move from id'].unique())\n",
    "print 'total move from clubs(name): ',len(df_trans_lv3_15['move from'].unique())\n",
    "print 'total move to clubs(id): ',len(df_trans_lv3_15['move to id'].unique())\n",
    "print 'total move to clubs(name): ',len(df_trans_lv3_15['move to'].unique())\n",
    "# separate the transfer records and load records according to the 'transfer fee' attribute\n",
    "df_transfer=df_trans_lv3_15[(df_trans_lv3_15['transfer fee'] != 'Loan') & (df_trans_lv3_15['transfer fee'] != 'End of loan')]\n",
    "df_loan=df_trans_lv3_15[(df_trans_lv3_15['transfer fee'] == 'Loan') | (df_trans_lv3_15['transfer fee'] == 'End of loan')]\n",
    "df_loan.to_csv('player_loan_15.csv',index=False)   # 9523\n",
    "df_transfer.to_csv('player_trans_15.csv',index=False)  # 15833\n",
    "print '*************************************************'\n",
    "print 'Transfer records in 2015: ',df_transfer.shape[0]\n",
    "print 'Loan records in 2015: ',df_loan.shape[0]"
   ]
  },
  {
   "cell_type": "markdown",
   "metadata": {},
   "source": [
    "### 使用Gephi构建可视化网络\n",
    "先简化一点\n",
    "\n",
    "* Node table `clubs_3lv_15.csv`中的\n",
    " * club_id --> *Id*\n",
    " * club_name --> *Label*\n",
    " * country_id\n",
    " * country_name\n",
    "* Edge table `player_trans_15.csv`中的\n",
    " * move from id --> *source*\n",
    " * move from\n",
    " * move to id --> *target*\n",
    " * move to\n",
    " * player id --> 边的属性"
   ]
  },
  {
   "cell_type": "markdown",
   "metadata": {},
   "source": [
    "初步绘制图形：\n",
    "* 按照节点的度对节点的*尺寸*进行放大/缩小（10~100）\n",
    "* 按照国家对节点进行*颜色*区分（取数量最多的前十个国家上色）\n",
    "* 使用*Layout*\n",
    " * Fruchterman Reingold\n",
    " * Force Atlas 2\n",
    "得到如下原始图形"
   ]
  },
  {
   "cell_type": "markdown",
   "metadata": {},
   "source": [
    "![player_trans_15_original.png](./player_trans_15_original.jpg)"
   ]
  },
  {
   "cell_type": "markdown",
   "metadata": {},
   "source": [
    "接下来我试图根据第三张表*club_city_info.csv*来将俱乐部引射到对应的城市地图上看看分布效果和转会的情况，具体思路如下：\n",
    "\n",
    "* 根据第三张表*club_city_info.csv*获取各个俱乐部所在的城市信息；\n",
    "* 通过城市信息，使用第三方库*geocoder*计算各个俱乐部的经纬度并与*club_id*对应起来保存为新的属性*Latitude*和*Longitude*；\n",
    "* 将属性*Latitude*和*Longitude*导入为原始结点表中的新的列\n",
    "* 尝试利用Gephi上的第三方布局插件**Map of Countries**将原始分布转换为新的按照地理位置的分布\n",
    "* 导出scg文件，尝试将分布图与地图叠加便于观察分析"
   ]
  }
 ],
 "metadata": {
  "kernelspec": {
   "display_name": "Python 2",
   "language": "python",
   "name": "python2"
  },
  "language_info": {
   "codemirror_mode": {
    "name": "ipython",
    "version": 2
   },
   "file_extension": ".py",
   "mimetype": "text/x-python",
   "name": "python",
   "nbconvert_exporter": "python",
   "pygments_lexer": "ipython2",
   "version": "2.7.13"
  }
 },
 "nbformat": 4,
 "nbformat_minor": 2
}
