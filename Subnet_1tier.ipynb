{
 "cells": [
  {
   "cell_type": "markdown",
   "metadata": {},
   "source": [
    "## 计算子网间的地理距离和网络距离绘制线性关系图\n",
    "* 同级别联赛，按国家划分子网，先取所有国家*2015赛季*、*第一级联赛*数据(转会前后均为第一级联赛)\n",
    "* 可视化\n",
    "* 子网距离计算"
   ]
  },
  {
   "cell_type": "code",
   "execution_count": 1,
   "metadata": {
    "collapsed": true
   },
   "outputs": [],
   "source": [
    "import numpy as np\n",
    "import pandas as pd"
   ]
  },
  {
   "cell_type": "markdown",
   "metadata": {},
   "source": [
    "### 从_clubs__league.csv_提取含有第一级联赛的记录"
   ]
  },
  {
   "cell_type": "code",
   "execution_count": 20,
   "metadata": {
    "collapsed": false
   },
   "outputs": [
    {
     "name": "stdout",
     "output_type": "stream",
     "text": [
      "total records:  1343\n",
      "total countries:  81\n",
      "total countries(country name):  81\n",
      "total clubs:  1161\n",
      "total clubs(club name):  1160\n",
      "total leagues:  98\n",
      "total leagues(league name):  92\n"
     ]
    }
   ],
   "source": [
    "df_clubs=pd.read_csv('clubs_league.csv')\n",
    "df_1lv_2015=df_clubs[(df_clubs['season_id']==2015)&(df_clubs['league_level']=='First tier \\xc2\\xa0-')]\n",
    "print 'total records: ',df_1lv_2015.shape[0]\n",
    "print 'total countries: ',len(df_1lv_2015['country_id'].unique())\n",
    "print 'total countries(country name): ',len(df_1lv_2015['country_name'].unique())\n",
    "print 'total clubs: ',len(df_1lv_2015['club_id'].unique())\n",
    "print 'total clubs(club name): ',len(df_1lv_2015['club_name'].unique())\n",
    "print 'total leagues: ',len(df_1lv_2015['league_id'].unique())\n",
    "print 'total leagues(league name): ',len(df_1lv_2015['league_name'].unique())"
   ]
  },
  {
   "cell_type": "markdown",
   "metadata": {},
   "source": [
    "由以上的基础统计信息可以看到\n",
    "* total clubs < total records: 可能含有同一个俱乐部对应多条记录，需要看看这些重复的俱乐部是什么情况\n",
    "* total leagues > total countries: 很明显同一个国家的一级联赛可能不止一个，导出这些国家，看看具体是什么原因"
   ]
  },
  {
   "cell_type": "code",
   "execution_count": 3,
   "metadata": {
    "collapsed": false
   },
   "outputs": [
    {
     "name": "stdout",
     "output_type": "stream",
     "text": [
      "['Chile', 'Colombia', 'Costa Rica', 'Ecuador', 'India', 'Japan', 'Kazakhstan', 'Mexico', 'Peru', 'Romania', 'Uruguay', 'Venezuela']\n"
     ]
    }
   ],
   "source": [
    "# league_group=df_1lv_2015.groupby([df_1lv_2015['country_id'],df_1lv_2015['league_id']]).size()\n",
    "league_group=df_1lv_2015.groupby([df_1lv_2015['country_name'],df_1lv_2015['country_id'],df_1lv_2015['league_id']]).size().reset_index(name='counts')\n",
    "# df_league_group=pd.DataFrame(df_1lv_2015.groupby([df_1lv_2015['league_id'],df_1lv_2015['country_id']]).size().rename('cnts'))\n",
    "country_group=league_group.groupby([league_group['country_name'],league_group['country_id']]).size().reset_index(name='cnts')\n",
    "# country_group=pd.DataFrame(league_group.groupby([league_group['country_id'],league_group['league_id']]).size().rename('cnts'))\n",
    "lst_dup_country=country_group['country_name'][country_group['cnts']>1].values.tolist()\n",
    "# print league_group\n",
    "# print country_group\n",
    "print lst_dup_country\n",
    "# get the records of those countries with multiple first tier league\n",
    "# df_dup_country=df_1lv_2015[df_1lv_2015['country_id'].isin(lst_dup_country)]\n",
    "# print df_dup_country"
   ]
  },
  {
   "cell_type": "code",
   "execution_count": 57,
   "metadata": {
    "collapsed": false
   },
   "outputs": [
    {
     "name": "stdout",
     "output_type": "stream",
     "text": [
      "league_name                        league_id\n",
      "premier-league-relegation-playoff  KAZA          6\n",
      "premier-liga                       KAS1         12\n",
      "dtype: int64\n"
     ]
    }
   ],
   "source": [
    "def getleague_name(country_name):\n",
    "    df_theCountry=df_1lv_2015[df_1lv_2015['country_name']==country_name]\n",
    "    league_theCountry=df_theCountry.groupby([df_1lv_2015['league_name'],df_1lv_2015['league_id']]).size()\n",
    "    return league_theCountry\n",
    "print getleague_name('Kazakhstan')"
   ]
  },
  {
   "cell_type": "markdown",
   "metadata": {},
   "source": [
    "先逐个分析上述出现同一级别多个联赛的国家是什么原因：_注：以2015赛季为准_\n",
    "* 分夏、冬季两场锦标赛，俱乐部是同样的俱乐部，但联赛名不同：(Clausura:winter/Apertura:summer)\n",
    " * 美洲：['Chile',,'Uruguay','Ecuador','Colombia','Venezuela']\n",
    " * 亚洲：['Japan']\n",
    "* 分多场锦标赛，但是有一两场参赛球队数目不同或者是展开类似championship,relegation/playoff之类的比赛\n",
    " * 美洲： ['Costa Rica'(4)，'Mexico'(3),'Peru'(4),]\n",
    " * 欧洲：['Kazakhstan','Romania']\n",
    "* 两个独立联赛\n",
    " * 亚洲： ['India']  i-league更官方，indian-super-league则稍逊一点，根据[quara](https://www.quora.com/What-is-the-difference-between-the-Indian-Super-League-and-the-I-League)的信息"
   ]
  },
  {
   "cell_type": "markdown",
   "metadata": {},
   "source": [
    "再来看看重复的_club__id_是什么原因"
   ]
  },
  {
   "cell_type": "code",
   "execution_count": 31,
   "metadata": {
    "collapsed": false
   },
   "outputs": [
    {
     "name": "stdout",
     "output_type": "stream",
     "text": [
      "No. of duplicate clubs:  162\n",
      "No. of duplicate records:  344\n"
     ]
    }
   ],
   "source": [
    "club_group=df_1lv_2015.groupby([df_1lv_2015['club_name'],df_1lv_2015['club_id']]).size().reset_index(name='cnts')\n",
    "# print club_group\n",
    "lst_dup_club=club_group['club_id'][club_group['cnts']>1].values.tolist()\n",
    "print 'No. of duplicate clubs: ',len(lst_dup_club)\n",
    "df_dup_club=df_1lv_2015[df_1lv_2015['club_id'].isin(lst_dup_club)]\n",
    "print 'No. of duplicate records: ',df_dup_club.shape[0]\n",
    "df_dup_club=df_dup_club.sort_values('club_id')\n",
    "# print df_dup_club\n",
    "# df_dup_club.to_csv('dup_club_1lv_2015.csv',index=False)"
   ]
  },
  {
   "cell_type": "markdown",
   "metadata": {},
   "source": [
    "原来是存在162个俱乐部属于不同联赛，造成这一现象的原因应该是和之前分析的同一个国家的同一级联赛出现的不同季节性/阶段性的锦标赛有关，比如\n",
    "\n",
    "* Venezuela\n",
    "```\n",
    "club_name,league_id,club_id,country_id,season_id,league_level,league_name,country_name\n",
    "Caracas FC,VZ1C,531,182,2015,First tier  -,torneo-clausura,Venezuela\n",
    "Caracas FC,VZ1A,531,182,2015,First tier  -,torneo-apertura,Venezuela\n",
    "```\n",
    "* Japan\n",
    "```\n",
    "club_name,league_id,club_id,country_id,season_id,league_level,league_name,country_name\n",
    "Gamba Osaka,JL11,596,77,2015,First tier  -,meiji-yasuda-j1-league-first-stage,Japan\n",
    "Gamba Osaka,JL12,596,77,2015,First tier  -,meiji-yasuda-j1-league-second-stage,Japan\n",
    "```\n",
    "不妨看一下具体是哪些国家，是否与之前的那些国家相对应"
   ]
  },
  {
   "cell_type": "code",
   "execution_count": 16,
   "metadata": {
    "collapsed": false
   },
   "outputs": [
    {
     "name": "stdout",
     "output_type": "stream",
     "text": [
      "['Romania', 'Peru', 'Uruguay', 'Kazakhstan', 'Mexico', 'Costa Rica', 'Chile', 'Japan', 'Colombia', 'Venezuela', 'Ecuador']\n"
     ]
    }
   ],
   "source": [
    "lst_countries=list(set(df_dup_club['country_name'].values.tolist()))\n",
    "print lst_countries"
   ]
  },
  {
   "cell_type": "markdown",
   "metadata": {},
   "source": [
    "恰好是这些有特殊情况的国家的一级联赛俱乐部，造成‘重复记录’的原因也是因为其league_id,league_name不同"
   ]
  },
  {
   "cell_type": "markdown",
   "metadata": {},
   "source": [
    "顺便看下有些club,league重名是什么情况"
   ]
  },
  {
   "cell_type": "code",
   "execution_count": 33,
   "metadata": {
    "collapsed": false
   },
   "outputs": [
    {
     "name": "stdout",
     "output_type": "stream",
     "text": [
      "league_name                league_id  country_name\n",
      "premier-league             GB1        England         20\n",
      "                           GHPL       Ghana           16\n",
      "                           MAL1       Malta           12\n",
      "premier-liga               KAS1       Kazakhstan      12\n",
      "                           RU1        Russia          16\n",
      "                           UKR1       Ukraine         14\n",
      "primera-division-apertura  CHLA       Chile           16\n",
      "                           URU1       Uruguay         16\n",
      "primera-division-clausura  CHL1       Chile           16\n",
      "                           URUC       Uruguay         16\n",
      "dtype: int64\n"
     ]
    }
   ],
   "source": [
    "league_id_group=df_1lv_2015.groupby([df_1lv_2015['league_name'],df_1lv_2015['league_id']]).size().reset_index(name='counts')\n",
    "# print league_id_group.sort_values('league_name')\n",
    "league_name_group=league_id_group.groupby(league_id_group['league_name']).size().reset_index(name='cnts')\n",
    "# print league_name_group[league_name_group['cnts']>1]\n",
    "lst_dup_league_name=league_name_group['league_name'][league_name_group['cnts']>1].values.tolist()\n",
    "# print lst_dup_league_name\n",
    "df_dup_league_name=df_1lv_2015[df_1lv_2015['league_name'].isin(lst_dup_league_name)]\n",
    "print df_dup_league_name.groupby([df_dup_league_name['league_name'],df_dup_league_name['league_id'],df_dup_league_name['country_name']]).size()"
   ]
  },
  {
   "cell_type": "code",
   "execution_count": 36,
   "metadata": {
    "collapsed": false
   },
   "outputs": [
    {
     "name": "stdout",
     "output_type": "stream",
     "text": [
      "club_name                club_id  country_name\n",
      "CD Universidad Católica  3277     Chile           2\n",
      "                         17584    Ecuador         2\n",
      "dtype: int64\n"
     ]
    }
   ],
   "source": [
    "club_id_group=df_1lv_2015.groupby([df_1lv_2015['club_name'],df_1lv_2015['club_id']]).size().reset_index(name='counts')\n",
    "club_name_group=club_id_group.groupby(club_id_group['club_name']).size().reset_index(name='cnts')\n",
    "lst_dup_club_name=club_name_group['club_name'][club_name_group['cnts']>1].values.tolist()\n",
    "df_dup_club_name=df_1lv_2015[df_1lv_2015['club_name'].isin(lst_dup_club_name)]\n",
    "print df_dup_club_name.groupby([df_dup_club_name['club_name'],df_dup_club_name['club_id'],df_dup_club_name['country_name']]).size()"
   ]
  },
  {
   "cell_type": "markdown",
   "metadata": {},
   "source": [
    "由此可见确实存在联赛名或者俱乐部名称完全相同的情形，不过可以用*id*加以区分"
   ]
  },
  {
   "cell_type": "code",
   "execution_count": 39,
   "metadata": {
    "collapsed": false
   },
   "outputs": [
    {
     "name": "stdout",
     "output_type": "stream",
     "text": [
      "league_name                          league_id\n",
      "meiji-yasuda-j1-league-first-stage   JL11         18\n",
      "meiji-yasuda-j1-league-second-stage  JL12         18\n",
      "dtype: int64\n"
     ]
    }
   ],
   "source": []
  }
 ],
 "metadata": {
  "kernelspec": {
   "display_name": "Python 2",
   "language": "python",
   "name": "python2"
  },
  "language_info": {
   "codemirror_mode": {
    "name": "ipython",
    "version": 2
   },
   "file_extension": ".py",
   "mimetype": "text/x-python",
   "name": "python",
   "nbconvert_exporter": "python",
   "pygments_lexer": "ipython2",
   "version": "2.7.13"
  }
 },
 "nbformat": 4,
 "nbformat_minor": 2
}
