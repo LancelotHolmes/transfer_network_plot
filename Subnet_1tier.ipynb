{
 "cells": [
  {
   "cell_type": "markdown",
   "metadata": {},
   "source": [
    "## 计算子网间的地理距离和网络距离绘制线性关系图\n",
    "* 同级别联赛，按国家划分子网，先取所有国家*2015赛季*、*第一级联赛*数据(转会前后均为第一级联赛)\n",
    "* 可视化\n",
    "* 子网距离计算"
   ]
  },
  {
   "cell_type": "code",
   "execution_count": 2,
   "metadata": {
    "collapsed": true
   },
   "outputs": [],
   "source": [
    "import numpy as np\n",
    "import pandas as pd"
   ]
  },
  {
   "cell_type": "markdown",
   "metadata": {},
   "source": [
    "### 从_clubs__league.csv_提取含有第一级联赛的记录"
   ]
  },
  {
   "cell_type": "code",
   "execution_count": 50,
   "metadata": {
    "collapsed": false
   },
   "outputs": [
    {
     "name": "stdout",
     "output_type": "stream",
     "text": [
      "total records:  1343\n",
      "total countries:  81\n",
      "total countries(country name):  81\n",
      "total clubs:  1161\n",
      "total clubs(club name):  1160\n",
      "total leagues:  98\n"
     ]
    }
   ],
   "source": [
    "df_clubs=pd.read_csv('clubs_league.csv')\n",
    "df_1lv_2015=df_clubs[(df_clubs['season_id']==2015)&(df_clubs['league_level']=='First tier \\xc2\\xa0-')]\n",
    "print 'total records: ',df_1lv_2015.shape[0]\n",
    "print 'total countries: ',len(df_1lv_2015['country_id'].unique())\n",
    "print 'total countries(country name): ',len(df_1lv_2015['country_name'].unique())\n",
    "print 'total clubs: ',len(df_1lv_2015['club_id'].unique())\n",
    "print 'total clubs(club name): ',len(df_1lv_2015['club_name'].unique())\n",
    "print 'total leagues: ',len(df_1lv_2015['league_id'].unique())"
   ]
  },
  {
   "cell_type": "markdown",
   "metadata": {},
   "source": [
    "由以上的基础统计信息可以看到\n",
    "* total clubs < total records: 可能含有同一个俱乐部对应多条记录，需要看看这些重复的俱乐部是什么情况\n",
    "* total leagues > total countries: 很明显同一个国家的一级联赛可能不止一个，导出这些国家，看看具体是什么原因"
   ]
  },
  {
   "cell_type": "code",
   "execution_count": 54,
   "metadata": {
    "collapsed": false
   },
   "outputs": [
    {
     "name": "stdout",
     "output_type": "stream",
     "text": [
      "['Chile', 'Colombia', 'Costa Rica', 'Ecuador', 'India', 'Japan', 'Kazakhstan', 'Mexico', 'Peru', 'Romania', 'Uruguay', 'Venezuela']\n"
     ]
    }
   ],
   "source": [
    "# league_group=df_1lv_2015.groupby([df_1lv_2015['country_id'],df_1lv_2015['league_id']]).size()\n",
    "league_group=df_1lv_2015.groupby([df_1lv_2015['country_name'],df_1lv_2015['country_id'],df_1lv_2015['league_id']]).size().reset_index(name='counts')\n",
    "# df_league_group=pd.DataFrame(df_1lv_2015.groupby([df_1lv_2015['league_id'],df_1lv_2015['country_id']]).size().rename('cnts'))\n",
    "country_group=league_group.groupby([league_group['country_name'],league_group['country_id']]).size().reset_index(name='cnts')\n",
    "# country_group=pd.DataFrame(league_group.groupby([league_group['country_id'],league_group['league_id']]).size().rename('cnts'))\n",
    "lst_dup_country=country_group['country_name'][country_group['cnts']>1].values.tolist()\n",
    "# print league_group\n",
    "# print country_group\n",
    "print lst_dup_country\n",
    "# get the records of those countries with multiple first tier league\n",
    "# df_dup_country=df_1lv_2015[df_1lv_2015['country_id'].isin(lst_dup_country)]\n",
    "# print df_dup_country"
   ]
  },
  {
   "cell_type": "markdown",
   "metadata": {},
   "source": [
    "先逐个分析上述出现同一级别多个联赛的国家是什么原因：\n",
    "* 分夏、冬季两场锦标赛，俱乐部是同样的俱乐部，但联赛名不同：(Clausura:winter/Apertura:summer)\n",
    " 美洲：['Chile','Mexico','Uruguay','Ecuador','Peru'(3),]\n",
    " 亚洲：\n",
    " 部分国家标记不一样，把目前没展开的锦标赛放到了`currently non-active competitions 部分`\n",
    " 美洲['Colombia','Venezuela']\n",
    "* 分多场锦标赛，但是有一场参赛球队数目不同或者是展开类似championship,relegation/playoff之类的比赛\n",
    " 美洲： ['Costa Rica'(3)]\n",
    " 亚洲：['Japan'(3),'India'(2)]\n",
    " 欧洲：['Kazakhstan','Romania'(3)]"
   ]
  }
 ],
 "metadata": {
  "kernelspec": {
   "display_name": "Python 2",
   "language": "python",
   "name": "python2"
  },
  "language_info": {
   "codemirror_mode": {
    "name": "ipython",
    "version": 2
   },
   "file_extension": ".py",
   "mimetype": "text/x-python",
   "name": "python",
   "nbconvert_exporter": "python",
   "pygments_lexer": "ipython2",
   "version": "2.7.13"
  }
 },
 "nbformat": 4,
 "nbformat_minor": 2
}
